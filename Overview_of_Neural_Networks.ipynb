{
 "cells": [
  {
   "cell_type": "markdown",
   "metadata": {},
   "source": [
    "# Overview of Keras and Neural Network Models\n",
    "\n",
    "This document provides basic information about the Keras package and the considerations involved in building neural network models.  There are lists of additional resources in the \"Links and Resources\" section "
   ]
  },
  {
   "cell_type": "markdown",
   "metadata": {},
   "source": [
    "# Contents\n",
    "\n",
    "- [What is Keras?](#Who)\n",
    "- [Sequential Models](#Sequential)\n",
    "    - [Layers](#Layers)\n",
    "    - [Activations](#Activations)\n",
    "    - [Optimizers and Loss Functions](#Optimizers)\n",
    "    - [Initailizers](#Initializers)\n",
    "- [Compiled Models](#Compiled)\n",
    "- [Data Sets](#Datasets)\n",
    "- [Applications](#Applications)\n",
    "- [Links and Resources](#Lynx)"
   ]
  },
  {
   "cell_type": "markdown",
   "metadata": {},
   "source": [
    "# What is Keras? <a class=\"anchor\" id=\"Who\"></a>"
   ]
  },
  {
   "cell_type": "markdown",
   "metadata": {},
   "source": [
    "Keras is a high-level API that interfaces with deep learning libraries like TensorFlow and Theano.\n",
    "\n",
    "The tool is used to quickly construct neural network models using an intuitive and user-friendly interface.\n",
    "\n",
    "Keras provides many prebuilt components and is also highly extensible.\n",
    "\n",
    "Keras can be used to build basic networks:\n",
    "\n",
    "![Basic Network](images/Basic Network.jpg)\n",
    "\n",
    "Keras also has convolution, pooling, and other advanced layers:\n",
    "\n",
    "![More Sophisticated Network](images/Convolution and Pooling Network.png)\n",
    "\n",
    "Keras has many other features, including precompiled models, TensorFlow interfaces, data sets, and much more."
   ]
  },
  {
   "cell_type": "markdown",
   "metadata": {},
   "source": [
    "# Sequential Models <a class=\"anchor\" id=\"Sequential\"></a>"
   ]
  },
  {
   "cell_type": "markdown",
   "metadata": {
    "collapsed": true
   },
   "source": [
    "The Keras Sequential model is the basic way to build up a neural network from pre-defined parts.\n",
    "\n",
    "Each layer accepts high-level functions to set the node type, activations, etc.\n",
    "\n",
    "Keras gives the user a significant amount of control within the framework of a high-level API.\n",
    "\n",
    "The next few sections explore different aspects of Keras network architecture."
   ]
  },
  {
   "cell_type": "markdown",
   "metadata": {},
   "source": [
    "## Layers <a class=\"anchor\" id=\"Layers\"></a>"
   ]
  },
  {
   "cell_type": "markdown",
   "metadata": {
    "collapsed": true
   },
   "source": [
    "The basic building blocks of neural networks are the nodes comprising the layers in the network.\n",
    "\n",
    "Keras provides implementations of many types of layers:\n",
    "\n",
    "- Fully-connected (dense)\n",
    "- Locally-connected\n",
    "- Convolutional and pooling\n",
    "- Recurrent\n",
    "- ...and many more...\n",
    "\n",
    "Keras also provides an API for user-defined layers and node types."
   ]
  },
  {
   "cell_type": "markdown",
   "metadata": {},
   "source": [
    "## Activations <a class=\"anchor\" id=\"Activations\"></a>"
   ]
  },
  {
   "cell_type": "markdown",
   "metadata": {
    "collapsed": true
   },
   "source": [
    "Activations are the functions evaluated within each neural network node.\n",
    "\n",
    "By default, the activation function is !!!!!!!!!!\n",
    "\n",
    "Keras includes predefined functions for common activations:\n",
    "\n",
    "- Sigmoid\n",
    "- Tanh\n",
    "- Softmax\n",
    "- ReLU\n",
    "- ...and many others...\n",
    "\n",
    "Keras provides methods for implementing user-defined activation functions."
   ]
  },
  {
   "cell_type": "markdown",
   "metadata": {},
   "source": [
    "## Optimizers and Loss Functions <a class=\"anchor\" id=\"Optimizers\"></a>"
   ]
  },
  {
   "cell_type": "markdown",
   "metadata": {
    "collapsed": true
   },
   "source": [
    "Optimizers and loss functions are the two components required for compiling a Keras model.\n",
    "\n",
    "An optimizer governs the manner in which the optimal parameter set is computed.\n",
    "\n",
    "Keras implements the common optimizers, including:\n",
    "\n",
    "- Stochastic gradient descent\n",
    "- Ada\\*\n",
    "- TFOptimizer, a wrapper for TensorFlow optimizers\n",
    "\n",
    "Loss functions specify how prediction errors are quantified.\n",
    "\n",
    "Keras implements the common loss functions:\n",
    "\n",
    "- Mean squared error\n",
    "- Categorical cross-entropy\n",
    "- Cosine distance\n",
    "- ...and many more...\n",
    "\n",
    "Of course, one can always define their own optimizer and loss function."
   ]
  },
  {
   "cell_type": "markdown",
   "metadata": {},
   "source": [
    "## Initializers <a class=\"anchor\" id=\"Initializers\"></a>"
   ]
  },
  {
   "cell_type": "markdown",
   "metadata": {
    "collapsed": true
   },
   "source": [
    "Initializers specify the initial values of weights and biases.\n",
    "\n",
    "Proper choice of initializer can significantly reduce training time.\n",
    "\n",
    "Keras implements common initializers as well as those from recent academic papers, including:\n",
    "\n",
    "- Uniform\n",
    "- Normall-distributed\n",
    "- LeCun Uniform\n",
    "- ...and many more...\n",
    "\n",
    "Yet again, it is very straightforward to implement a custom initializer"
   ]
  },
  {
   "cell_type": "markdown",
   "metadata": {},
   "source": [
    "# Compiled Models <a class=\"anchor\" id=\"Compiled\"></a>"
   ]
  },
  {
   "cell_type": "markdown",
   "metadata": {
    "collapsed": true
   },
   "source": [
    "Several famous models from academic papers have been implemented in Keras.\n",
    "\n",
    "These models are fully-trained and ready to use for prediction.\n",
    "\n",
    "Most of the networks are state-of-the-art with respect to image recognition.\n",
    "\n",
    "For even more advanced uses, Keras comes with pre-compiled networks, including\n",
    "    - Xception\n",
    "    - VGG16\n",
    "    - VGG19\n",
    "    - ResNet50\n",
    "    - InceptionV3"
   ]
  },
  {
   "cell_type": "markdown",
   "metadata": {},
   "source": [
    "# Data Sets <a class=\"anchor\" id=\"Datasets\"></a>"
   ]
  },
  {
   "cell_type": "markdown",
   "metadata": {
    "collapsed": true
   },
   "source": [
    "Keras provides a number of data sets to use as training and testing sets for network development.\n",
    "\n",
    "Typically, the data sets have been cleaned and standardized already.\n",
    "\n",
    "Some of the interesting data sets included with Keras:\n",
    "\n",
    "- MNIST digit recognition images \n",
    "- IMBD movie reviews\n",
    "- CIFAR image sets"
   ]
  },
  {
   "cell_type": "markdown",
   "metadata": {},
   "source": [
    "# Neural Network Applications <a class=\"anchor\" id=\"Applications\"></a>"
   ]
  },
  {
   "cell_type": "markdown",
   "metadata": {},
   "source": [
    "Neural networks are a highly flexible model with many uses and applications\n",
    "\n",
    "- Classification and regression\n",
    "- Feature extractors\n",
    "- Autoencoders"
   ]
  },
  {
   "cell_type": "markdown",
   "metadata": {},
   "source": [
    "# Links and Resources <a class=\"anchor\" id=\"Lynx\"></a>"
   ]
  },
  {
   "cell_type": "markdown",
   "metadata": {
    "collapsed": true
   },
   "source": [
    "Keras documentation\n",
    "\n",
    "- [Keras homepage](https://keras.io)\n",
    "- [Official \"Getting Started\" Guide](https://keras.io/getting-started/sequential-model-guide/)\n",
    "- [Long List of Keras Links](https://github.com/fchollet/keras-resources)\n",
    "\n",
    "Tutorials and guides\n",
    "\n",
    "- [Keras blog](https://blog.keras.io)\n",
    "- [Beginner's Guide](https://elitedatascience.com/keras-tutorial-deep-learning-in-python)\n",
    "- [End-to-End Data Munging and Modeling Walkthrough](https://www.datacamp.com/community/tutorials/deep-learning-python#gs.vkMHq7g)\n",
    "\n",
    "More Information about Neural networks\n",
    "\n",
    "- [Neural Networks and Deep Learning eBook](http://neuralnetworksanddeeplearning.com/)\n",
    "- [Introduction to Long Short-Term Memory Networks](http://colah.github.io/posts/2015-08-Understanding-LSTMs/)\n",
    "\n",
    "Advice on designing and training neural networks\n",
    "\n",
    "- [How to Choose Layer Size and Number of Layers](https://stats.stackexchange.com/questions/181/how-to-choose-the-number-of-hidden-layers-and-nodes-in-a-feedforward-neural-netw)\n",
    "- [What are Some Rules of Thumb for Training Neural Networks?](https://www.quora.com/What-are-some-rules-of-thumb-for-training-neural-networks)\n",
    "\n",
    "Explanation of neural network types\n",
    "\n",
    "- [Types of Neural Networks (Wikipedia)](https://en.wikipedia.org/wiki/Types_of_artificial_neural_networks)\n",
    "- [Explanation of Neural Network Types](http://www.asimovinstitute.org/neural-network-zoo/)\n",
    "- [Book Chapter Explaining Neural Network Types, Backpropagation, etc.](www.ieee.cz/knihovna/Zhang/Zhang100-ch03.pdf)\n",
    "\n",
    "Discussions on when to use neural networks\n",
    "\n",
    "- [Why aren't neural networks used for everything?](https://www.quora.com/Why-arent-artificial-neural-networks-used-for-everything-Of-course-you-wouldnt-do-colliding-galaxy-simulations-with-them-or-anything-ridiculous-but-it-seems-that-in-AI-they-have-a-very-good-applicability-range)\n",
    "- [What problems cannot be addressed using neural networks?](https://www.quora.com/What-problems-in-artificial-intelligence-cannot-be-addressed-using-artificial-neural-networks-and-what-of-using-deep-belief-networks)\n",
    "- [Neural Networks and the Universal Approximation Theorem](https://towardsdatascience.com/can-neural-networks-really-learn-any-function-65e106617fc6)"
   ]
  },
  {
   "cell_type": "code",
   "execution_count": null,
   "metadata": {},
   "outputs": [],
   "source": []
  }
 ],
 "metadata": {
  "kernelspec": {
   "display_name": "Python 3",
   "language": "python",
   "name": "python3"
  },
  "language_info": {
   "codemirror_mode": {
    "name": "ipython",
    "version": 3
   },
   "file_extension": ".py",
   "mimetype": "text/x-python",
   "name": "python",
   "nbconvert_exporter": "python",
   "pygments_lexer": "ipython3",
   "version": "3.6.5"
  }
 },
 "nbformat": 4,
 "nbformat_minor": 1
}
